{
  "nbformat": 4,
  "nbformat_minor": 0,
  "metadata": {
    "colab": {
      "provenance": [],
      "authorship_tag": "ABX9TyOVRzcjXqRWfGewKaVRKQ3+",
      "include_colab_link": true
    },
    "kernelspec": {
      "name": "python3",
      "display_name": "Python 3"
    },
    "language_info": {
      "name": "python"
    }
  },
  "cells": [
    {
      "cell_type": "markdown",
      "metadata": {
        "id": "view-in-github",
        "colab_type": "text"
      },
      "source": [
        "<a href=\"https://colab.research.google.com/github/johnsondillond/nhl-projects/blob/main/NHLFantasyAssistant/NHLTeamLogos.ipynb\" target=\"_parent\"><img src=\"https://colab.research.google.com/assets/colab-badge.svg\" alt=\"Open In Colab\"/></a>"
      ]
    },
    {
      "cell_type": "code",
      "source": [
        "import os\n",
        "import urllib\n",
        "import requests"
      ],
      "metadata": {
        "id": "U8pEa4SQjPRg"
      },
      "execution_count": 14,
      "outputs": []
    },
    {
      "cell_type": "code",
      "source": [],
      "metadata": {
        "id": "erFR6y4KnCHm"
      },
      "execution_count": 1,
      "outputs": []
    },
    {
      "cell_type": "code",
      "source": [
        "nhl_team_details_url = \"https://api.nhle.com/stats/rest/en/team\"\n",
        "response = requests.get(nhl_team_details_url)\n",
        "teams_list = response.json()['data']\n"
      ],
      "metadata": {
        "id": "JzogX07YjM5w"
      },
      "execution_count": 15,
      "outputs": []
    },
    {
      "cell_type": "code",
      "source": [
        "def download_image(url: str, filename: str) -> None:\n",
        "  response = requests.get(url)\n",
        "  with open(filename, 'wb') as f:\n",
        "    f.write(response.content)"
      ],
      "metadata": {
        "id": "r4YGELiflJli"
      },
      "execution_count": 16,
      "outputs": []
    },
    {
      "cell_type": "code",
      "source": [
        "if not os.path.isdir(\"./logos\"):\n",
        "  os.mkdir('logos')"
      ],
      "metadata": {
        "id": "JunrdOY2mtBV"
      },
      "execution_count": 17,
      "outputs": []
    },
    {
      "cell_type": "code",
      "source": [
        "for team in teams_list:\n",
        "  base_image_url = f\"https://assets.nhle.com/logos/nhl/svg/{team['triCode']}_light.svg\"\n",
        "  download_image(base_image_url, f\"logos/{team['triCode']}_light.svg\")"
      ],
      "metadata": {
        "id": "OjPVe7JZlKCq"
      },
      "execution_count": 18,
      "outputs": []
    },
    {
      "cell_type": "code",
      "source": [],
      "metadata": {
        "id": "bfQgCijrrlWQ"
      },
      "execution_count": 13,
      "outputs": []
    }
  ]
}