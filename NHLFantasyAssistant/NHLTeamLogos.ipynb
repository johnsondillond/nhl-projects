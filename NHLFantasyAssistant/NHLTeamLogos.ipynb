{
  "nbformat": 4,
  "nbformat_minor": 0,
  "metadata": {
    "colab": {
      "provenance": [],
      "authorship_tag": "ABX9TyPH8JC5IfKhXAz4/tkf41BV",
      "include_colab_link": true
    },
    "kernelspec": {
      "name": "python3",
      "display_name": "Python 3"
    },
    "language_info": {
      "name": "python"
    }
  },
  "cells": [
    {
      "cell_type": "markdown",
      "metadata": {
        "id": "view-in-github",
        "colab_type": "text"
      },
      "source": [
        "<a href=\"https://colab.research.google.com/github/johnsondillond/nhl-projects/blob/main/NHLTeamLogos.ipynb\" target=\"_parent\"><img src=\"https://colab.research.google.com/assets/colab-badge.svg\" alt=\"Open In Colab\"/></a>"
      ]
    },
    {
      "cell_type": "code",
      "source": [
        "import os\n",
        "import urllib\n",
        "import requests"
      ],
      "metadata": {
        "id": "U8pEa4SQjPRg"
      },
      "execution_count": 7,
      "outputs": []
    },
    {
      "cell_type": "code",
      "source": [],
      "metadata": {
        "colab": {
          "base_uri": "https://localhost:8080/"
        },
        "id": "erFR6y4KnCHm",
        "outputId": "9dda37c9-ecce-4ad7-a3a2-dd6e4531575d"
      },
      "execution_count": 11,
      "outputs": [
        {
          "output_type": "stream",
          "name": "stdout",
          "text": [
            "sample_data\n"
          ]
        }
      ]
    },
    {
      "cell_type": "code",
      "source": [
        "nhl_team_details_url = \"https://api.nhle.com/stats/rest/en/team\"\n",
        "response = requests.get(nhl_team_details_url)\n",
        "teams_list = response.json()['data']\n"
      ],
      "metadata": {
        "id": "JzogX07YjM5w"
      },
      "execution_count": 4,
      "outputs": []
    },
    {
      "cell_type": "code",
      "source": [
        "def download_image(url: str, filename: str) -> None:\n",
        "  response = requests.get(url)\n",
        "  with open(filename, 'wb') as f:\n",
        "    f.write(response.content)"
      ],
      "metadata": {
        "id": "r4YGELiflJli"
      },
      "execution_count": 6,
      "outputs": []
    },
    {
      "cell_type": "code",
      "source": [],
      "metadata": {
        "id": "JunrdOY2mtBV"
      },
      "execution_count": null,
      "outputs": []
    },
    {
      "cell_type": "code",
      "source": [
        "for team in teams_list:\n",
        "  base_light_image_url = f\"https://assets.nhle.com/logos/nhl/svg/{team['tricode']}_light.svg\"\n",
        "  base_dark_image_url = f\"https://assets.nhle.com/logos/nhl/svg/{team['tricode']}_dark.svg\"\n",
        "  download_image(base_light_image_url, f\"logos/{team['tricode']}_light.tif\")\n",
        "  download_image(base_dark_image_url, f\"logos/{team['tricode']}_dark.tif\")"
      ],
      "metadata": {
        "id": "OjPVe7JZlKCq"
      },
      "execution_count": null,
      "outputs": []
    }
  ]
}